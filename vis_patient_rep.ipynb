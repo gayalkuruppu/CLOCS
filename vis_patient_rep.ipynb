{
 "cells": [
  {
   "cell_type": "code",
   "execution_count": 11,
   "metadata": {},
   "outputs": [
    {
     "name": "stdout",
     "output_type": "stream",
     "text": [
      "dict_keys(['train1', 'val'])\n",
      "(1, 256, 12)\n",
      "6379\n"
     ]
    }
   ],
   "source": [
    "import pickle\n",
    "\n",
    "patient_rep_path = '/Users/gayalkuruppu/Documents/Research/Codes/CLOCS/embedding_256/seed0/patient_rep'\n",
    "\n",
    "# open the file\n",
    "with open(patient_rep_path, 'rb') as f:\n",
    "    patient_rep = pickle.load(f)\n",
    "\n",
    "print(patient_rep.keys())\n",
    "\n",
    "# get the patient representation\n",
    "patient_rep_train1 = patient_rep['train1']\n",
    "patient_rep_val = patient_rep['val']\n",
    "\n",
    "print(patient_rep_train1['MUSE_20180111_155115_19000'].shape)\n",
    "print(len(patient_rep_train1))"
   ]
  },
  {
   "cell_type": "markdown",
   "metadata": {},
   "source": [
    "# Loss Curves"
   ]
  },
  {
   "cell_type": "code",
   "execution_count": 14,
   "metadata": {},
   "outputs": [
    {
     "name": "stdout",
     "output_type": "stream",
     "text": [
      "train_val_metrics_dict.keys():  dict_keys(['epoch_loss'])\n",
      "epoch_loss length:  2\n",
      "epoch_loss keys:  dict_keys(['train1', 'val'])\n",
      "epoch_loss_train1 length:  236\n",
      "epoch_loss_val length:  236\n"
     ]
    }
   ],
   "source": [
    "import torch\n",
    "\n",
    "train_val_metrics_dict_path = '/Users/gayalkuruppu/Documents/Research/Codes/CLOCS/embedding_256/seed0/train_val_metrics_dict'\n",
    "\n",
    "# open the file\n",
    "train_val_metrics_dict = torch.load(train_val_metrics_dict_path, map_location=torch.device('cpu'))\n",
    "print(\"train_val_metrics_dict.keys(): \", train_val_metrics_dict.keys())\n",
    "\n",
    "epoch_loss = train_val_metrics_dict['epoch_loss']\n",
    "\n",
    "print(\"epoch_loss length: \", len(epoch_loss))\n",
    "\n",
    "print(\"epoch_loss keys: \", epoch_loss.keys())\n",
    "\n",
    "epoch_loss_train1 = epoch_loss['train1']\n",
    "epoch_loss_val = epoch_loss['val']\n",
    "\n",
    "print(\"epoch_loss_train1 length: \", len(epoch_loss_train1))\n",
    "print(\"epoch_loss_val length: \", len(epoch_loss_val))\n",
    "\n",
    "# plot the loss inside results/CMLC/embedding_256/seed0/loss.png\n",
    "\n",
    "import matplotlib.pyplot as plt\n",
    "import os\n",
    "\n",
    "# create the directory\n",
    "path = '/Users/gayalkuruppu/Documents/Research/Codes/CLOCS/results/CMLC/embedding_256/seed0'\n",
    "if not os.path.exists(path):\n",
    "    os.makedirs(path)\n",
    "\n",
    "plt.plot(epoch_loss_train1, label='train1')\n",
    "plt.plot(epoch_loss_val, label='val')\n",
    "plt.legend()\n",
    "plt.savefig(path+'/loss.png')\n",
    "plt.close()\n",
    "\n"
   ]
  },
  {
   "cell_type": "code",
   "execution_count": null,
   "metadata": {},
   "outputs": [],
   "source": []
  }
 ],
 "metadata": {
  "kernelspec": {
   "display_name": "bio-sig-fm",
   "language": "python",
   "name": "python3"
  },
  "language_info": {
   "codemirror_mode": {
    "name": "ipython",
    "version": 3
   },
   "file_extension": ".py",
   "mimetype": "text/x-python",
   "name": "python",
   "nbconvert_exporter": "python",
   "pygments_lexer": "ipython3",
   "version": "3.11.5"
  }
 },
 "nbformat": 4,
 "nbformat_minor": 2
}
