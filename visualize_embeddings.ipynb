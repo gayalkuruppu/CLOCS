{
 "cells": [
  {
   "cell_type": "code",
   "execution_count": 5,
   "metadata": {},
   "outputs": [
    {
     "data": {
      "text/plain": [
       "<All keys matched successfully>"
      ]
     },
     "execution_count": 5,
     "metadata": {},
     "output_type": "execute_result"
    }
   ],
   "source": [
    "from prepare_network import cnn_network_contrastive, second_cnn_network\n",
    "import torch\n",
    "\n",
    "# import the weights inside embedding_256/seed0\n",
    "# and visualize the embeddings\n",
    "\n",
    "# load the model\n",
    "weights_path = '/Users/gayalkuruppu/Documents/Research/Codes/CLOCS/embedding_256/seed0/pretrained_weight'\n",
    "dropout_type = 'drop1d'\n",
    "p1, p2, p3 = 0.1, 0.1, 0.1\n",
    "model = cnn_network_contrastive(dropout_type=dropout_type, p1=p1, p2=p2, p3=p3)\n",
    "model.load_state_dict(torch.load(weights_path))\n",
    "\n",
    "\n"
   ]
  },
  {
   "cell_type": "code",
   "execution_count": null,
   "metadata": {},
   "outputs": [],
   "source": []
  }
 ],
 "metadata": {
  "kernelspec": {
   "display_name": "bio-sig-fm",
   "language": "python",
   "name": "python3"
  },
  "language_info": {
   "codemirror_mode": {
    "name": "ipython",
    "version": 3
   },
   "file_extension": ".py",
   "mimetype": "text/x-python",
   "name": "python",
   "nbconvert_exporter": "python",
   "pygments_lexer": "ipython3",
   "version": "3.11.5"
  }
 },
 "nbformat": 4,
 "nbformat_minor": 2
}
